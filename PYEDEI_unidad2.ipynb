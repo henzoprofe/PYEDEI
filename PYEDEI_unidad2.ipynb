{
  "nbformat": 4,
  "nbformat_minor": 0,
  "metadata": {
    "colab": {
      "provenance": [],
      "mount_file_id": "1tzyljog6BcpEKh-6z9wKEvqxGOs5ZhZr",
      "authorship_tag": "ABX9TyM8gi7MzbwwFYaxzNanyyvp",
      "include_colab_link": true
    },
    "kernelspec": {
      "name": "ir",
      "display_name": "R"
    },
    "language_info": {
      "name": "R"
    }
  },
  "cells": [
    {
      "cell_type": "markdown",
      "metadata": {
        "id": "view-in-github",
        "colab_type": "text"
      },
      "source": [
        "<a href=\"https://colab.research.google.com/github/henzoprofe/PYEDEI/blob/main/PYEDEI_unidad2.ipynb\" target=\"_parent\"><img src=\"https://colab.research.google.com/assets/colab-badge.svg\" alt=\"Open In Colab\"/></a>"
      ]
    },
    {
      "cell_type": "markdown",
      "source": [
        "#Antes de comenzar\n",
        "Se trabajará en base a tareas por clase o se forma semanal.\n",
        "La estructura está diseñada de forma secuencial, en general los datos o el a"
      ],
      "metadata": {
        "id": "Xnaahatl9a-4"
      }
    }
  ]
}