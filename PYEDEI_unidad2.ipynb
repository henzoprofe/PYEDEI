{
  "nbformat": 4,
  "nbformat_minor": 0,
  "metadata": {
    "colab": {
      "provenance": [],
      "toc_visible": true,
      "mount_file_id": "1tzyljog6BcpEKh-6z9wKEvqxGOs5ZhZr",
      "authorship_tag": "ABX9TyO75uQBhPEP/GN045hDtzZR",
      "include_colab_link": true
    },
    "kernelspec": {
      "name": "ir",
      "display_name": "R"
    },
    "language_info": {
      "name": "R"
    }
  },
  "cells": [
    {
      "cell_type": "markdown",
      "metadata": {
        "id": "view-in-github",
        "colab_type": "text"
      },
      "source": [
        "<a href=\"https://colab.research.google.com/github/henzoprofe/PYEDEI/blob/main/PYEDEI_unidad2.ipynb\" target=\"_parent\"><img src=\"https://colab.research.google.com/assets/colab-badge.svg\" alt=\"Open In Colab\"/></a>"
      ]
    },
    {
      "cell_type": "markdown",
      "source": [
        "#Antes de comenzar\n",
        "Se trabajará en base a tareas por clase o se forma semanal.\n",
        "La estructura está diseñada de forma secuencial, en general los datos, las funciones y los cálculos se reutilizarán más adelante.\n",
        "Haga una copia de este \"notebook\", y utilice el siguiente formato para el nombre:\n",
        "\n",
        "curso_nombre_apellido\n",
        "\n",
        "Esto es para poder realizar la revisión de forma rápida y correcta.\n",
        "<br><h2>EVITE NOMBRES GENÉRICOS COMO LOS SIGUIENTES:\n",
        "<br>trabajo del electivo\n",
        "<br>trabajo de probabilidad\n",
        "<br>envio trabajo</h2>"
      ],
      "metadata": {
        "id": "Xnaahatl9a-4"
      }
    },
    {
      "cell_type": "markdown",
      "source": [
        "# Algunas observaciones útiles\n",
        "Si bien existe una gran cantidad de libros y manuales de R disponibles por internet.\n",
        "<br>Casi todos estos libros y manuales asumen que ya se tienen conocimientos profundos de estadística (nivel universitario), por lo que su lectura en solitario podría llevar a confusiones y desvíos de los objetivos del curso.\n",
        "<br>Si busca información en internet, envíeme los links para revisarlos, pues hay mucha información equivocada circulando en la red."
      ],
      "metadata": {
        "id": "yMTX8Y9107Eu"
      }
    },
    {
      "cell_type": "markdown",
      "source": [
        "# Introducción a R\n",
        "Según la página del <a href=\"https://r-project.org\">Proyecto R</a>, \"R es un entorno de software gratuito para gráficos y computación estadística\", a diferencia de python, que es un lenguaje de programación, no se confunda, también se puede programar en R, pero no es su objetivo principal.\n",
        "<br>Utilizaremos Google Colab para evitar la instalación de R y de algún entorno gráfico asociado (R Commander, RStudio, RKWard, Visual Stuido Code, etc), utilizando Colab solamente se necesita una conexión a internet y un dispositivo capaz de mostrar páginas web.\n"
      ],
      "metadata": {
        "id": "9q9UsHck3GPi"
      }
    }
  ]
}